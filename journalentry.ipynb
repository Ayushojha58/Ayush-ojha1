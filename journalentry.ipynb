{
 "cells": [
  {
   "cell_type": "code",
   "execution_count": 1,
   "metadata": {},
   "outputs": [
    {
     "name": "stdout",
     "output_type": "stream",
     "text": [
      "Journal Menu:\n",
      "1. Create a new entry\n",
      "2. Read a previous entry\n",
      "3. Quit\n",
      "Journal entry saved successfully!\n",
      "Journal Menu:\n",
      "1. Create a new entry\n",
      "2. Read a previous entry\n",
      "3. Quit\n",
      "Journal entry for 11 august  2024 not found.\n",
      "ram buy a new car\n",
      "ram buy a new car\n",
      "Journal entry for fchgvj not found.\n",
      "Journal entry for hnb vhbn not found.\n",
      "Journal Menu:\n",
      "1. Create a new entry\n",
      "2. Read a previous entry\n",
      "3. Quit\n"
     ]
    }
   ],
   "source": [
    "import datetime\n",
    "def create_journalentry():\n",
    "    #strftime = format date and time objects into human-readable strin\n",
    "  today = datetime.datetime.now().strftime(\"%Y-%m-%d\")\n",
    "  filename = f\"{today}.txt\"\n",
    "  with open(filename, \"w\") as file:\n",
    "    entry = input(\"Write your journal entry: \")\n",
    "    file.write(entry)\n",
    "  print(\"Journal entry saved successfully!\")\n",
    "\n",
    "def read_journalentry():\n",
    "  while True:\n",
    "    date_to_read = input(\"Enter the date (YYYY-MM-DD) to read (or 'q' to quit): \")\n",
    "    if date_to_read == 'q':\n",
    "      break\n",
    "    filename = f\"{date_to_read}.txt\"\n",
    "    try:\n",
    "      with open(filename, \"r\") as file:\n",
    "        print(file.read())\n",
    "    except FileNotFoundError:\n",
    "      print(\"Journal entry for\", date_to_read, \"not found.\")\n",
    "\n",
    "def main():\n",
    "  while True:\n",
    "    print(\"Journal Menu:\")\n",
    "    print(\"1. Create a new entry\")\n",
    "    print(\"2. Read a previous entry\")\n",
    "    print(\"3. Quit\")\n",
    "    choice = input(\"Enter your choice: \")\n",
    "    if choice == '1':\n",
    "      create_journalentry()\n",
    "    elif choice == '2':\n",
    "      read_journalentry()\n",
    "    elif choice == '3':\n",
    "      break\n",
    "    else:\n",
    "      print(\"Invalid choice. Please try again.\")\n",
    "\n",
    "if __name__ == \"__main__\":\n",
    "  main()"
   ]
  },
  {
   "cell_type": "code",
   "execution_count": null,
   "metadata": {},
   "outputs": [],
   "source": []
  }
 ],
 "metadata": {
  "kernelspec": {
   "display_name": "Python 3",
   "language": "python",
   "name": "python3"
  },
  "language_info": {
   "codemirror_mode": {
    "name": "ipython",
    "version": 3
   },
   "file_extension": ".py",
   "mimetype": "text/x-python",
   "name": "python",
   "nbconvert_exporter": "python",
   "pygments_lexer": "ipython3",
   "version": "3.12.3"
  }
 },
 "nbformat": 4,
 "nbformat_minor": 2
}
