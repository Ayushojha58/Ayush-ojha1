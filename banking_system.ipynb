{
 "cells": [
  {
   "cell_type": "code",
   "execution_count": 4,
   "metadata": {},
   "outputs": [
    {
     "name": "stdout",
     "output_type": "stream",
     "text": [
      "Account created successfully!\n",
      "No account found.\n",
      "Account Name: susmita\n",
      "Account Number: 35555555777778\n",
      "Balance: 67.0\n",
      "\n"
     ]
    }
   ],
   "source": [
    "#Banking system\n",
    "class BankAccount:\n",
    "    def __init__(self, account_name, acc_number, balance=0.0):\n",
    "        self.account_name = account_name\n",
    "        self.acc_number = acc_number\n",
    "        self.balance = balance\n",
    "\n",
    "    def deposit(self, amount):\n",
    "        if amount > 0:\n",
    "            self.balance += amount\n",
    "            print(f\"Your balance is: {self.balance}\")\n",
    "\n",
    "    def withdraw(self, amount):\n",
    "        if 0 < amount <= self.balance:\n",
    "            self.balance -= amount\n",
    "            print(f\"You have withdrawn: {amount}\")\n",
    "            print(f\"Your current balance: {self.balance}\")\n",
    "\n",
    "    def display_info(self):\n",
    "        print(f\"Account Name: {self.account_name}\")\n",
    "        print(f\"Account Number: {self.acc_number}\")\n",
    "        print(f\"Balance: {self.balance}\")\n",
    "\n",
    "\n",
    "class Bank:\n",
    "    def __init__(self):\n",
    "        self.accounts = []\n",
    "\n",
    "    def create_account(self):\n",
    "        account_name = input(\"Enter account name: \")\n",
    "        acc_number = int(input(\"Enter account number: \"))\n",
    "        balance = float(input(\"Enter initial balance: \"))\n",
    "        new_account = BankAccount(account_name, acc_number, balance)\n",
    "        self.accounts.append(new_account)\n",
    "        print(\"Account created successfully!\")\n",
    "\n",
    "    def find_account(self, account_number):\n",
    "        for account in self.accounts:\n",
    "            if account.acc_number == account_number:\n",
    "                print(\"Account found!\")\n",
    "                account.display_info()\n",
    "                return\n",
    "        print(\"No account found.\")\n",
    "\n",
    "    def display_all_accounts(self):\n",
    "        for account in self.accounts:\n",
    "            account.display_info()\n",
    "            print()\n",
    "\n",
    "\n",
    "bank = Bank()\n",
    "bank.create_account()\n",
    "bank.find_account(93863333336726)\n",
    "bank.display_all_accounts()"
   ]
  },
  {
   "cell_type": "code",
   "execution_count": null,
   "metadata": {},
   "outputs": [],
   "source": []
  }
 ],
 "metadata": {
  "kernelspec": {
   "display_name": "Python 3",
   "language": "python",
   "name": "python3"
  },
  "language_info": {
   "codemirror_mode": {
    "name": "ipython",
    "version": 3
   },
   "file_extension": ".py",
   "mimetype": "text/x-python",
   "name": "python",
   "nbconvert_exporter": "python",
   "pygments_lexer": "ipython3",
   "version": "3.12.3"
  }
 },
 "nbformat": 4,
 "nbformat_minor": 2
}
