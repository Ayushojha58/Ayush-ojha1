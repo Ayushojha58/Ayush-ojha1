{
 "cells": [
  {
   "cell_type": "code",
   "execution_count": 20,
   "metadata": {},
   "outputs": [
    {
     "name": "stdout",
     "output_type": "stream",
     "text": [
      "Data file for 2004-04-24 not found.\n",
      "Data file for 2004-04-25 not found.\n",
      "Data file for 2004-04-26 not found.\n",
      "Data file for 2004-04-27 not found.\n",
      "Data file for 2004-04-28 not found.\n",
      "Data file for 2004-04-29 not found.\n",
      "Data file for 2004-04-30 not found.\n",
      "No data available for the specified date range.\n"
     ]
    }
   ],
   "source": [
    "import datetime\n",
    "def main():\n",
    "    while True:\n",
    "        choice = int(input(\"Enter the choice you want to choose:\\n 1. Add\\n 2. display\\n 3. calculate_weekly_trends\\n 4.Exit\\n\"))\n",
    "        if choice == 1:\n",
    "            add_data()\n",
    "        elif choice == 2:\n",
    "            view_data()\n",
    "        elif choice == 3:\n",
    "            calculate_weekly_trends()\n",
    "        elif choice==4:\n",
    "            print(\"exiting...\")    \n",
    "            break\n",
    "        else:\n",
    "            print(\"Incorrect choice\")\n",
    "def add_data():\n",
    "    date = input(\"Enter the date (yyyy-mm-dd): \")\n",
    "    temperature = input(\"Enter the temperature: \")\n",
    "    humidity = input(\"Enter the humidity (in percentage): \")\n",
    "    conditions = input(\"Enter the condition of the day: \")\n",
    "    with open(date + '.txt', 'w') as file:\n",
    "        file.write(f\"date:{date}\\ntemperature:{temperature}\\nhumidity:{humidity}\\nconditions:{conditions}\\n\")\n",
    "    print(f\"File saved to filename: {date}.txt\")\n",
    "\n",
    "def view_data():\n",
    "    x = input(\"Enter the date (as filename) you want to view the weather of: \")\n",
    "    try:\n",
    "        with open(x + '.txt', 'r') as file:\n",
    "            content = file.read()\n",
    "            print(\"Details are:\")\n",
    "            print(content)\n",
    "    except FileNotFoundError:\n",
    "        print(f\"No data found for the date '{x}'. Please check the filename.\")\n",
    "    except Exception as e:\n",
    "        print(f\"An error occurred: {e}\")\n",
    "\n",
    "def calculate_weekly_trends():\n",
    "    start_date_str = input(\"Enter the start date of the week (yyyy-mm-dd): \")\n",
    "    end_date_str = input(\"Enter the end date of the week (yyyy-mm-dd): \")\n",
    "\n",
    "    try:\n",
    "        start_date = datetime.datetime.strptime(start_date_str, \"%Y-%m-%d\")\n",
    "        end_date = datetime.datetime.strptime(end_date_str, \"%Y-%m-%d\")\n",
    "\n",
    "        total_temperature = 0\n",
    "        count = 0\n",
    "        current_date = start_date\n",
    "\n",
    "        while current_date <= end_date:\n",
    "            filename = current_date.strftime(\"%Y-%m-%d\") + '.txt'\n",
    "            try:\n",
    "                with open(filename, 'r') as file:\n",
    "                    for line in file:\n",
    "                        if line.startswith('temperature:'):\n",
    "                            temperature = float(line.strip().split(':')[1])\n",
    "                            total_temperature += temperature\n",
    "                            count += 1\n",
    "            except FileNotFoundError:\n",
    "                print(f\"Data file for {current_date.strftime('%Y-%m-%d')} not found.\")\n",
    "            \n",
    "            \n",
    "            current_date += datetime.timedelta(days=1)\n",
    "\n",
    "        if count > 0:\n",
    "            average_temperature = total_temperature / count\n",
    "            print(f\"Average temperature from {start_date_str} to {end_date_str}: {average_temperature:.2f}°C\")\n",
    "        else:\n",
    "            print(\"No data available for the specified date range.\")\n",
    "    \n",
    "    except ValueError as e:\n",
    "        print(f\"Invalid date format: {e}\")\n",
    "\n",
    "main()\n"
   ]
  },
  {
   "cell_type": "code",
   "execution_count": null,
   "metadata": {},
   "outputs": [],
   "source": []
  }
 ],
 "metadata": {
  "kernelspec": {
   "display_name": "Python 3",
   "language": "python",
   "name": "python3"
  },
  "language_info": {
   "codemirror_mode": {
    "name": "ipython",
    "version": 3
   },
   "file_extension": ".py",
   "mimetype": "text/x-python",
   "name": "python",
   "nbconvert_exporter": "python",
   "pygments_lexer": "ipython3",
   "version": "3.12.4"
  }
 },
 "nbformat": 4,
 "nbformat_minor": 2
}
