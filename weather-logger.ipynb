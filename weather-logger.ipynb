{
 "cells": [
  {
   "cell_type": "code",
   "execution_count": 2,
   "metadata": {},
   "outputs": [
    {
     "name": "stdout",
     "output_type": "stream",
     "text": [
      "Weather Menu:\n",
      "1. Record weather data\n",
      "2. Read weather data\n",
      "3. Quit\n",
      "Weather data recorded successfully!\n",
      "Weather Menu:\n",
      "1. Record weather data\n",
      "2. Read weather data\n",
      "3. Quit\n",
      "Date: 2024-08-11\n",
      "Temperature: 37.2°C\n",
      "Humidity: 30.4%\n",
      "Conditions: sunny\n",
      "\n",
      "Weather Menu:\n",
      "1. Record weather data\n",
      "2. Read weather data\n",
      "3. Quit\n"
     ]
    }
   ],
   "source": [
    "import datetime\n",
    "\n",
    "def record_weather_data():\n",
    "  date = datetime.datetime.now().strftime(\"%Y-%m-%d\")\n",
    "  filename = f\"{date}.txt\"\n",
    "\n",
    "  temperature = float(input(\"Enter temperature in Celsius: \"))\n",
    "  humidity = float(input(\"Enter humidity: \"))\n",
    "  conditions = input(\"Enter weather conditions: \")\n",
    "\n",
    "  with open(filename, \"w\") as file:\n",
    "    file.write(f\"Date: {date}\\n\")\n",
    "    file.write(f\"Temperature: {temperature}°C\\n\")\n",
    "    file.write(f\"Humidity: {humidity}\\n\")\n",
    "    file.write(f\"Conditions: {conditions}\\n\")\n",
    "\n",
    "  print(\"Weather data recorded successfully!\")\n",
    "\n",
    "def read_weather_data(date):\n",
    "  filename = f\"{date}.txt\"\n",
    "  try:\n",
    "    with open(filename, \"r\") as file:\n",
    "      data = file.read()\n",
    "      print(data)\n",
    "  except FileNotFoundError:\n",
    "    print(\"Data for\", date, \"not found.\")\n",
    "\n",
    "def main():\n",
    "  while True:\n",
    "    print(\"Weather Menu:\")\n",
    "    print(\"1. Record weather data\")\n",
    "    print(\"2. Read weather data\")\n",
    "    print(\"3. Quit\")\n",
    "    choice = input(\"Enter your choice: \")\n",
    "\n",
    "    if choice == '1':\n",
    "      record_weather_data()\n",
    "    elif choice == '2':\n",
    "      date = input(\"Enter the date (YYYY-MM-DD): \")\n",
    "      read_weather_data(date)\n",
    "    elif choice == '3':\n",
    "      break\n",
    "    else:\n",
    "      print(\"Invalid choice. Please try again.\")\n",
    "\n",
    "if __name__ == \"__main__\":\n",
    "  main()"
   ]
  },
  {
   "cell_type": "code",
   "execution_count": null,
   "metadata": {},
   "outputs": [],
   "source": []
  }
 ],
 "metadata": {
  "kernelspec": {
   "display_name": "Python 3",
   "language": "python",
   "name": "python3"
  },
  "language_info": {
   "codemirror_mode": {
    "name": "ipython",
    "version": 3
   },
   "file_extension": ".py",
   "mimetype": "text/x-python",
   "name": "python",
   "nbconvert_exporter": "python",
   "pygments_lexer": "ipython3",
   "version": "3.12.3"
  }
 },
 "nbformat": 4,
 "nbformat_minor": 2
}
