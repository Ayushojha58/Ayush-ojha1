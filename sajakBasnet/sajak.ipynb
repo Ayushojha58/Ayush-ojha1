{
 "cells": [
  {
   "cell_type": "code",
   "execution_count": 11,
   "metadata": {},
   "outputs": [],
   "source": [
    "#project 1\n",
    "import os\n",
    "from datetime import datetime"
   ]
  },
  {
   "cell_type": "code",
   "execution_count": 15,
   "metadata": {},
   "outputs": [],
   "source": [
    "def write_read_to_file(filename,mode, content= ''):\n",
    "    if mode == 'w':\n",
    "        with open(filename, mode) as file:\n",
    "            file.write(content)\n",
    "        print(\"Entry has been saved!!!!!!\")\n",
    "        file.close()\n",
    "    else:\n",
    "        with open (filename, mode) as file:\n",
    "            content = file.read()\n",
    "        print(f\"Journal entry for {filename}:\")\n",
    "        print(content)\n",
    "        file.close()\n",
    "\n",
    "\n",
    "\n",
    "    "
   ]
  },
  {
   "cell_type": "code",
   "execution_count": 16,
   "metadata": {},
   "outputs": [],
   "source": [
    "def write_journaal():\n",
    "    mode = 'w'\n",
    "    current_time = datetime.now().strftime('%Y-%m-%d')\n",
    "    #print(current_time)   # gives ---> 2024-08-11 16:04:47.662500\n",
    "    filename = f\"{current_time}.txt\"\n",
    "\n",
    "    print(\"Write your journal entry below. Press Enter twice to save.\")\n",
    "    entry = \"\"\n",
    "\n",
    "    while True:\n",
    "        line = input()\n",
    "        if line == \"\":\n",
    "            break\n",
    "        entry += line + '\\n'\n",
    "\n",
    "    #saving to file\n",
    "    write_read_to_file(filename,mode , entry)\n",
    "\n"
   ]
  },
  {
   "cell_type": "code",
   "execution_count": 17,
   "metadata": {},
   "outputs": [],
   "source": [
    "def read_journal():\n",
    "    mode = 'r'\n",
    "    files = [f for f in os.listdir() if f.endswith('.txt')]\n",
    "\n",
    "    if not files:\n",
    "        print(\"No journal entries found\")\n",
    "        return\n",
    "    print(\"Avainlabe journal entries: \")\n",
    "    for file in files:\n",
    "        print(file)\n",
    "\n",
    "    select_file_choice = input(\"Enter the filename of the journal entry you want to read: \")\n",
    "    \n",
    "    if select_file_choice not in files:\n",
    "        print(\"file not found!!\")\n",
    "\n",
    "    write_read_to_file(select_file_choice, mode, )\n",
    "        "
   ]
  },
  {
   "cell_type": "code",
   "execution_count": 18,
   "metadata": {},
   "outputs": [],
   "source": [
    "def main():\n",
    "    while True:\n",
    "        print(\"JOURNAL MENUE:\")\n",
    "        print(\"1. Write a new journal entry\")\n",
    "        print(\"2. Read a previous journal entry\")\n",
    "        print(\"3. Exit\")\n",
    "\n",
    "        choice = input(\"Choose and option: \")\n",
    "\n",
    "        if choice == '1':\n",
    "            write_journaal()\n",
    "        elif choice == '2':\n",
    "            read_journal()\n",
    "        elif choice == '3':\n",
    "            print(\"Write more fuckingg journall!!!!\")\n",
    "            break\n",
    "        else:\n",
    "            print(\"Invalid chouice tey again!!!\")"
   ]
  },
  {
   "cell_type": "code",
   "execution_count": 20,
   "metadata": {},
   "outputs": [
    {
     "name": "stdout",
     "output_type": "stream",
     "text": [
      "JOURNAL MENUE:\n",
      "1. Write a new journal entry\n",
      "2. Read a previous journal entry\n",
      "3. Exit\n",
      "Avainlabe journal entries: \n",
      "2024-08-11.txt\n",
      "Journal entry for 2024-08-11.txt:\n",
      "dghbfiusrgiuerghfiuerghierghbeirbgveirpgberipgvberivbiruvbeprv\n",
      "vbewivbreiufbvierbvierbvrevbre\n",
      "\n",
      "JOURNAL MENUE:\n",
      "1. Write a new journal entry\n",
      "2. Read a previous journal entry\n",
      "3. Exit\n",
      "Write more fuckingg journall!!!!\n"
     ]
    }
   ],
   "source": [
    "if __name__ == '__main__':\n",
    "    main()"
   ]
  },
  {
   "cell_type": "code",
   "execution_count": null,
   "metadata": {},
   "outputs": [],
   "source": [
    "#project2\n"
   ]
  }
 ],
 "metadata": {
  "kernelspec": {
   "display_name": "Python 3",
   "language": "python",
   "name": "python3"
  },
  "language_info": {
   "codemirror_mode": {
    "name": "ipython",
    "version": 3
   },
   "file_extension": ".py",
   "mimetype": "text/x-python",
   "name": "python",
   "nbconvert_exporter": "python",
   "pygments_lexer": "ipython3",
   "version": "3.11.4"
  }
 },
 "nbformat": 4,
 "nbformat_minor": 2
}
