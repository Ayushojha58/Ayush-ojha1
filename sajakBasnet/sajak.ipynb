{
 "cells": [
  {
   "cell_type": "code",
   "execution_count": 11,
   "metadata": {},
   "outputs": [],
   "source": [
    "#project 1\n",
    "import os\n",
    "from datetime import datetime"
   ]
  },
  {
   "cell_type": "code",
   "execution_count": 15,
   "metadata": {},
   "outputs": [],
   "source": [
    "def write_read_to_file(filename,mode, content= ''):\n",
    "    if mode == 'w':\n",
    "        with open(filename, mode) as file:\n",
    "            file.write(content)\n",
    "        print(\"Entry has been saved!!!!!!\")\n",
    "        file.close()\n",
    "    else:\n",
    "        with open (filename, mode) as file:\n",
    "            content = file.read()\n",
    "        print(f\"Journal entry for {filename}:\")\n",
    "        print(content)\n",
    "        file.close()\n",
    "\n",
    "\n",
    "\n",
    "    "
   ]
  },
  {
   "cell_type": "code",
   "execution_count": 16,
   "metadata": {},
   "outputs": [],
   "source": [
    "def write_journaal():\n",
    "    mode = 'w'\n",
    "    current_time = datetime.now().strftime('%Y-%m-%d')\n",
    "    #print(current_time)   # gives ---> 2024-08-11 16:04:47.662500\n",
    "    filename = f\"{current_time}.txt\"\n",
    "\n",
    "    print(\"Write your journal entry below. Press Enter twice to save.\")\n",
    "    entry = \"\"\n",
    "\n",
    "    while True:\n",
    "        line = input()\n",
    "        if line == \"\":\n",
    "            break\n",
    "        entry += line + '\\n'\n",
    "\n",
    "    #saving to file\n",
    "    write_read_to_file(filename,mode , entry)\n",
    "\n"
   ]
  },
  {
   "cell_type": "code",
   "execution_count": 17,
   "metadata": {},
   "outputs": [],
   "source": [
    "def read_journal():\n",
    "    mode = 'r'\n",
    "    files = [f for f in os.listdir() if f.endswith('.txt')]\n",
    "\n",
    "    if not files:\n",
    "        print(\"No journal entries found\")\n",
    "        return\n",
    "    print(\"Avainlabe journal entries: \")\n",
    "    for file in files:\n",
    "        print(file)\n",
    "\n",
    "    select_file_choice = input(\"Enter the filename of the journal entry you want to read: \")\n",
    "    \n",
    "    if select_file_choice not in files:\n",
    "        print(\"file not found!!\")\n",
    "\n",
    "    write_read_to_file(select_file_choice, mode, )\n",
    "        "
   ]
  },
  {
   "cell_type": "code",
   "execution_count": 18,
   "metadata": {},
   "outputs": [],
   "source": [
    "def main():\n",
    "    while True:\n",
    "        print(\"JOURNAL MENUE:\")\n",
    "        print(\"1. Write a new journal entry\")\n",
    "        print(\"2. Read a previous journal entry\")\n",
    "        print(\"3. Exit\")\n",
    "\n",
    "        choice = input(\"Choose and option: \")\n",
    "\n",
    "        if choice == '1':\n",
    "            write_journaal()\n",
    "        elif choice == '2':\n",
    "            read_journal()\n",
    "        elif choice == '3':\n",
    "            print(\"Write more fuckingg journall!!!!\")\n",
    "            break\n",
    "        else:\n",
    "            print(\"Invalid chouice tey again!!!\")"
   ]
  },
  {
   "cell_type": "code",
   "execution_count": null,
   "metadata": {},
   "outputs": [],
   "source": [
    "if __name__ == '__main__':\n",
    "    main()"
   ]
  },
  {
   "cell_type": "code",
   "execution_count": 22,
   "metadata": {},
   "outputs": [],
   "source": [
    "#project2\n",
    "import os\n",
    "from datetime import datetime, timedelta\n"
   ]
  },
  {
   "cell_type": "code",
   "execution_count": 23,
   "metadata": {},
   "outputs": [],
   "source": [
    "def current_date():\n",
    "    return(datetime.now().strftime('%Y-%m-%d'))"
   ]
  },
  {
   "cell_type": "code",
   "execution_count": 32,
   "metadata": {},
   "outputs": [],
   "source": [
    "def write_read_data_file(filename,mode, temp='', humidity='', conditions=''):\n",
    "    today_date = current_date()\n",
    "    if mode == 'w':\n",
    "        with open(filename, mode) as file:\n",
    "            file.write(f\"Temperature: {temp}°C\\n\")\n",
    "            file.write(f\"Humidity: {humidity}%\\n\")\n",
    "            file.write(f\"Conditions: {conditions}\\n\")\n",
    "            \n",
    "        print(f\"Weather data saved as {filename}\")\n",
    "        file.close()\n",
    "            \n",
    "\n",
    "    else:\n",
    "        with open(filename, mode) as file:\n",
    "            content = file.read()\n",
    "        print(f\"Weather data for {filename}:\")\n",
    "        print(content)\n",
    "        file.close()"
   ]
  },
  {
   "cell_type": "code",
   "execution_count": 25,
   "metadata": {},
   "outputs": [],
   "source": [
    "def record_weatherr_date():\n",
    "    mode = 'w'\n",
    "    today_date = current_date()\n",
    "    filename = f\"{today_date}.txt\"\n",
    "\n",
    "    print(\"Enter today's weather data: \")\n",
    "    temperature = input(\"Temperature (°C): \")\n",
    "    humidity = input(\"Humidity (%): \")\n",
    "    conditions = input(\"Conditions (e.g., sunny, rainy): \")\n",
    "\n",
    "    write_read_data_file(filename,mode, temperature, humidity, conditions)"
   ]
  },
  {
   "cell_type": "code",
   "execution_count": 27,
   "metadata": {},
   "outputs": [],
   "source": [
    "def view_weathere_data():\n",
    "    mode = 'r'\n",
    "    files = [f for f in os.listdir() if f.endswith('.txt')]\n",
    "\n",
    "    if not files:\n",
    "        print(\"No weather data found!!\")\n",
    "        return\n",
    "    \n",
    "    print(\"Available weather data: \")\n",
    "    for file in files:\n",
    "        print(file)\n",
    "\n",
    "    selected_file = input(\"Enter the filename of the weather data you want to view: \")\n",
    "\n",
    "    if selected_file not in files:\n",
    "        print(\"file not foundd\")\n",
    "        return\n",
    "    \n",
    "    #read and display (how to do haha use fuckingg functionn)\n",
    "    write_read_data_file(selected_file, mode)\n",
    "    "
   ]
  },
  {
   "cell_type": "code",
   "execution_count": 1,
   "metadata": {},
   "outputs": [],
   "source": [
    "def calculate_weekly_trends():\n",
    "    today = datetime.now().date()\n",
    "    week_ago = today - timedelta(days=7)\n",
    "    \n",
    "    total_temperature = 0\n",
    "    count = 0\n",
    "    \n",
    "    files = [f for f in os.listdir() if f.endswith('.txt')]\n",
    "    \n",
    "    if not files:\n",
    "        print(\"No weather data found.\")\n",
    "        return\n",
    "    \n",
    "    for file in files:\n",
    "        file_date = datetime.strptime(file.replace('.txt', ''), '%Y-%m-%d').date()\n",
    "        \n",
    "        if week_ago <= file_date <= today: #only files from the last week\n",
    "            with open(file, 'r') as f:\n",
    "                lines = f.readlines()\n",
    "                for line in lines:\n",
    "                    if line.startswith(\"Temperature:\"):\n",
    "                        temperature_line = line  # The temperature line is identifiead\n",
    "                        break\n",
    "                temperature = float(temperature_line.split(\": \")[1].replace('°C', '').strip())\n",
    "                total_temperature += temperature\n",
    "                count += 1\n",
    "    \n",
    "    if count > 0:\n",
    "        average_temperature = total_temperature / count\n",
    "        print(f\"Average temperature over the last week: {average_temperature:.2f}°C\")\n",
    "    else:\n",
    "        print(\"No weather data found for the last week.\")\n"
   ]
  },
  {
   "cell_type": "code",
   "execution_count": 29,
   "metadata": {},
   "outputs": [],
   "source": [
    "def main():\n",
    "    while True:\n",
    "        print(\"WEATHER APPLICATION:\")\n",
    "        print(\"1. Record today's weather data\")\n",
    "        print(\"2. View past weather data\")\n",
    "        print(\"3. Display weekly trends\")\n",
    "        print(\"4. Exit\")\n",
    "        \n",
    "        choice = input(\"Choose an option (1/2/3/4): \")\n",
    "        \n",
    "        if choice == '1':\n",
    "            record_weatherr_date()\n",
    "        elif choice == '2':\n",
    "            view_weathere_data()\n",
    "        elif choice == '3':\n",
    "            calculate_weekly_trends()\n",
    "        elif choice == '4':\n",
    "            print(\"Goodbye!\")\n",
    "            break\n",
    "        else:\n",
    "            print(\"Invalid choice. Please choose 1, 2, 3, or 4.\")"
   ]
  },
  {
   "cell_type": "code",
   "execution_count": 33,
   "metadata": {},
   "outputs": [],
   "source": [
    "if __name__ == \"__main__\":\n",
    "    main()"
   ]
  },
  {
   "cell_type": "code",
   "execution_count": null,
   "metadata": {},
   "outputs": [],
   "source": []
  }
 ],
 "metadata": {
  "kernelspec": {
   "display_name": "Python 3",
   "language": "python",
   "name": "python3"
  },
  "language_info": {
   "codemirror_mode": {
    "name": "ipython",
    "version": 3
   },
   "file_extension": ".py",
   "mimetype": "text/x-python",
   "name": "python",
   "nbconvert_exporter": "python",
   "pygments_lexer": "ipython3",
   "version": "3.11.4"
  }
 },
 "nbformat": 4,
 "nbformat_minor": 2
}
